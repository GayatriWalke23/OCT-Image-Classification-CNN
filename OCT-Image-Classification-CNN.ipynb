{
 "cells": [
  {
   "cell_type": "markdown",
   "id": "01801e0a",
   "metadata": {},
   "source": [
    "# Part 3 "
   ]
  },
  {
   "cell_type": "markdown",
   "id": "4a3bd265",
   "metadata": {},
   "source": [
    "## Model 1 - Base model "
   ]
  },
  {
   "cell_type": "code",
   "execution_count": 41,
   "id": "a085da9e",
   "metadata": {},
   "outputs": [],
   "source": [
    "import os\n",
    "import numpy as np\n",
    "from torchvision import transforms\n",
    "from medmnist import OCTMNIST\n",
    "from sklearn.model_selection import train_test_split\n",
    "import torch\n",
    "import torch.nn as nn\n",
    "import torch.optim as optim\n",
    "from torchvision import transforms\n",
    "from torch.utils.data import DataLoader, Dataset, random_split\n",
    "import torch.optim as optim\n",
    "from sklearn.metrics import confusion_matrix, classification_report, roc_curve, roc_auc_score, average_precision_score, matthews_corrcoef\n",
    "from sklearn.metrics import confusion_matrix, accuracy_score, precision_score, recall_score, f1_score\n",
    "import matplotlib.pyplot as plt\n",
    "import copy\n",
    "import torch.nn.functional as F"
   ]
  },
  {
   "cell_type": "code",
   "execution_count": 42,
   "id": "22213893",
   "metadata": {},
   "outputs": [
    {
     "name": "stdout",
     "output_type": "stream",
     "text": [
      "Using downloaded and verified file: ./datanew/octmnist.npz\n"
     ]
    },
    {
     "data": {
      "text/plain": [
       "Dataset OCTMNIST of size 28 (octmnist)\n",
       "    Number of datapoints: 97477\n",
       "    Root location: ./datanew\n",
       "    Split: train\n",
       "    Task: multi-class\n",
       "    Number of channels: 1\n",
       "    Meaning of labels: {'0': 'choroidal neovascularization', '1': 'diabetic macular edema', '2': 'drusen', '3': 'normal'}\n",
       "    Number of samples: {'train': 97477, 'val': 10832, 'test': 1000}\n",
       "    Description: The OCTMNIST is based on a prior dataset of 109,309 valid optical coherence tomography (OCT) images for retinal diseases. The dataset is comprised of 4 diagnosis categories, leading to a multi-class classification task. We split the source training set with a ratio of 9:1 into training and validation set, and use its source validation set as the test set. The source images are gray-scale, and their sizes are (384−1,536)×(277−512). We center-crop the images and resize them into 1×28×28.\n",
       "    License: CC BY 4.0"
      ]
     },
     "execution_count": 42,
     "metadata": {},
     "output_type": "execute_result"
    }
   ],
   "source": [
    "# Import lr_scheduler from torch.optim\n",
    "from torch.optim import lr_scheduler\n",
    "\n",
    "# Define the data directory where the dataset will be downloaded\n",
    "data_dir = './datanew'\n",
    "\n",
    "# Create a directory if it doesn't exist\n",
    "os.makedirs(data_dir, exist_ok=True)\n",
    "\n",
    "# Download and load the OCTMNIST dataset\n",
    "dataset = OCTMNIST(root=data_dir, split='train', download=True, transform=transforms.ToTensor())\n",
    "\n",
    "dataset"
   ]
  },
  {
   "cell_type": "code",
   "execution_count": 43,
   "id": "ac104c0e",
   "metadata": {},
   "outputs": [],
   "source": [
    "# Preprocess the dataset\n",
    "class CustomDataset(Dataset):\n",
    "    def __init__(self, data):\n",
    "        self.data = data\n",
    "\n",
    "    def __len__(self):\n",
    "        return len(self.data)\n",
    "\n",
    "    def __getitem__(self, idx):\n",
    "        img, label = self.data[idx]\n",
    "        label = torch.tensor(label).long().squeeze()  # Convert label to tensor and squeeze to ensure one-dimensional tensor\n",
    "        return img, label"
   ]
  },
  {
   "cell_type": "code",
   "execution_count": 44,
   "id": "3c608fe0",
   "metadata": {},
   "outputs": [
    {
     "name": "stdout",
     "output_type": "stream",
     "text": [
      "Size of train dataset: 68233\n",
      "Size of validation dataset: 14621\n",
      "Size of test dataset: 14623\n"
     ]
    }
   ],
   "source": [
    "# Split the dataset into training, validation, and test sets\n",
    "train_ratio = 0.7\n",
    "val_ratio = 0.15\n",
    "test_ratio = 0.15\n",
    "epochs = 20\n",
    "train_size = int(train_ratio * len(dataset))\n",
    "val_size = int(val_ratio * len(dataset))\n",
    "test_size = len(dataset) - train_size - val_size\n",
    "\n",
    "train_dataset, val_dataset, test_dataset = random_split(dataset, [train_size, val_size, test_size])\n",
    "\n",
    "# Apply transforms and create data loaders\n",
    "train_loader = DataLoader(CustomDataset(train_dataset), batch_size=64, shuffle=True)\n",
    "val_loader = DataLoader(CustomDataset(val_dataset), batch_size=64, shuffle=False)\n",
    "test_loader = DataLoader(CustomDataset(test_dataset), batch_size=64, shuffle=False)\n",
    "\n",
    "# Print the sizes of individual splits\n",
    "print(\"Size of train dataset:\", len(train_dataset))\n",
    "print(\"Size of validation dataset:\", len(val_dataset))\n",
    "print(\"Size of test dataset:\", len(test_dataset))"
   ]
  },
  {
   "cell_type": "code",
   "execution_count": 45,
   "id": "c03e6b42",
   "metadata": {},
   "outputs": [
    {
     "data": {
      "text/plain": [
       "SimpleCNN(\n",
       "  (conv1): Conv2d(1, 32, kernel_size=(3, 3), stride=(1, 1), padding=(1, 1))\n",
       "  (relu1): ReLU()\n",
       "  (pool1): MaxPool2d(kernel_size=2, stride=2, padding=0, dilation=1, ceil_mode=False)\n",
       "  (conv2): Conv2d(32, 64, kernel_size=(3, 3), stride=(1, 1), padding=(1, 1))\n",
       "  (relu2): ReLU()\n",
       "  (pool2): MaxPool2d(kernel_size=2, stride=2, padding=0, dilation=1, ceil_mode=False)\n",
       "  (fc1): Linear(in_features=3136, out_features=128, bias=True)\n",
       "  (relu3): ReLU()\n",
       "  (fc2): Linear(in_features=128, out_features=4, bias=True)\n",
       ")"
      ]
     },
     "execution_count": 45,
     "metadata": {},
     "output_type": "execute_result"
    }
   ],
   "source": [
    "# Define the neural network model\n",
    "\n",
    "class SimpleCNN(nn.Module):\n",
    "    def __init__(self):\n",
    "        super(SimpleCNN, self).__init__()\n",
    "        self.conv1 = nn.Conv2d(1, 32, kernel_size=3, padding=1)\n",
    "        self.relu1 = nn.ReLU()\n",
    "        self.pool1 = nn.MaxPool2d(kernel_size=2, stride=2)\n",
    "        self.conv2 = nn.Conv2d(32, 64, kernel_size=3, padding=1)\n",
    "        self.relu2 = nn.ReLU()\n",
    "        self.pool2 = nn.MaxPool2d(kernel_size=2, stride=2)\n",
    "        self.fc1 = nn.Linear(64 * 7 * 7, 128)\n",
    "        self.relu3 = nn.ReLU()\n",
    "        self.fc2 = nn.Linear(128, 4)  # Changed output to 4 classes for OCTMNIST dataset\n",
    "\n",
    "    def forward(self, x):\n",
    "        x = self.relu1(self.conv1(x))\n",
    "        x = self.pool1(x)\n",
    "        x = self.relu2(self.conv2(x))\n",
    "        x = self.pool2(x)\n",
    "        x = x.view(-1, 64 * 7 * 7)\n",
    "        x = self.relu3(self.fc1(x))\n",
    "        x = self.fc2(x)\n",
    "        return x\n",
    "\n",
    "# Create the model, loss function, and optimizer\n",
    "model = SimpleCNN()\n",
    "model"
   ]
  },
  {
   "cell_type": "code",
   "execution_count": 46,
   "id": "88ebc68e",
   "metadata": {},
   "outputs": [
    {
     "name": "stdout",
     "output_type": "stream",
     "text": [
      "Training simple CNN model\n",
      "Epoch 1/20\n",
      "----------\n"
     ]
    },
    {
     "name": "stderr",
     "output_type": "stream",
     "text": [
      "/user/gwalke/.local/lib/python3.9/site-packages/torch/optim/lr_scheduler.py:28: UserWarning: The verbose parameter is deprecated. Please use get_last_lr() to access the learning rate.\n",
      "  warnings.warn(\"The verbose parameter is deprecated. Please use get_last_lr() \"\n"
     ]
    },
    {
     "name": "stdout",
     "output_type": "stream",
     "text": [
      "Train Loss: 0.7767 Acc: 0.7082\n",
      "Val Loss: 0.5737 Acc: 0.7930\n",
      "\n",
      "Epoch 2/20\n",
      "----------\n",
      "Train Loss: 0.5242 Acc: 0.8143\n",
      "Val Loss: 0.4870 Acc: 0.8249\n",
      "\n",
      "Epoch 3/20\n",
      "----------\n",
      "Train Loss: 0.4600 Acc: 0.8365\n",
      "Val Loss: 0.4975 Acc: 0.8233\n",
      "\n",
      "Epoch 4/20\n",
      "----------\n",
      "Train Loss: 0.4235 Acc: 0.8493\n",
      "Val Loss: 0.4300 Acc: 0.8449\n",
      "\n",
      "Epoch 5/20\n",
      "----------\n",
      "Train Loss: 0.3907 Acc: 0.8599\n",
      "Val Loss: 0.4008 Acc: 0.8581\n",
      "\n",
      "Epoch 6/20\n",
      "----------\n",
      "Train Loss: 0.3655 Acc: 0.8677\n",
      "Val Loss: 0.4274 Acc: 0.8494\n",
      "\n",
      "Epoch 7/20\n",
      "----------\n",
      "Train Loss: 0.3459 Acc: 0.8769\n",
      "Val Loss: 0.3614 Acc: 0.8698\n",
      "\n",
      "Epoch 8/20\n",
      "----------\n",
      "Train Loss: 0.3306 Acc: 0.8812\n",
      "Val Loss: 0.3558 Acc: 0.8750\n",
      "\n",
      "Epoch 9/20\n",
      "----------\n",
      "Train Loss: 0.3119 Acc: 0.8886\n",
      "Val Loss: 0.3521 Acc: 0.8776\n",
      "\n",
      "Epoch 10/20\n",
      "----------\n",
      "Train Loss: 0.2979 Acc: 0.8931\n",
      "Val Loss: 0.3357 Acc: 0.8798\n",
      "\n",
      "Epoch 11/20\n",
      "----------\n",
      "Train Loss: 0.2851 Acc: 0.8979\n",
      "Val Loss: 0.3358 Acc: 0.8828\n",
      "\n",
      "Epoch 12/20\n",
      "----------\n",
      "Train Loss: 0.2706 Acc: 0.9047\n",
      "Val Loss: 0.3388 Acc: 0.8828\n",
      "\n",
      "Epoch 13/20\n",
      "----------\n",
      "Train Loss: 0.2596 Acc: 0.9077\n",
      "Val Loss: 0.3239 Acc: 0.8886\n",
      "\n",
      "Epoch 14/20\n",
      "----------\n",
      "Train Loss: 0.2483 Acc: 0.9116\n",
      "Val Loss: 0.3879 Acc: 0.8696\n",
      "\n",
      "Epoch 15/20\n",
      "----------\n",
      "Train Loss: 0.2359 Acc: 0.9159\n",
      "Val Loss: 0.3468 Acc: 0.8826\n",
      "\n",
      "Epoch 16/20\n",
      "----------\n",
      "Train Loss: 0.2305 Acc: 0.9177\n",
      "Val Loss: 0.3248 Acc: 0.8897\n",
      "\n",
      "Epoch 17/20\n",
      "----------\n",
      "Train Loss: 0.2173 Acc: 0.9228\n",
      "Val Loss: 0.3539 Acc: 0.8868\n",
      "\n",
      "Epoch 18/20\n",
      "----------\n",
      "Train Loss: 0.1750 Acc: 0.9406\n",
      "Val Loss: 0.3096 Acc: 0.8978\n",
      "\n",
      "Epoch 19/20\n",
      "----------\n",
      "Train Loss: 0.1681 Acc: 0.9434\n",
      "Val Loss: 0.3111 Acc: 0.8992\n",
      "\n",
      "Epoch 20/20\n",
      "----------\n",
      "Train Loss: 0.1647 Acc: 0.9442\n",
      "Val Loss: 0.3085 Acc: 0.8993\n",
      "\n",
      "Best validation Accuracy: 0.8993\n",
      "Best model saved.\n"
     ]
    }
   ],
   "source": [
    "# Define the training function\n",
    "def train_model_simple(model, criterion, optimizer, scheduler, num_epochs=10):\n",
    "    train_losses, val_losses = [], []\n",
    "    train_accs, val_accs = [], []\n",
    "\n",
    "    best_model_wts = copy.deepcopy(model.state_dict())\n",
    "    best_acc = 0.0\n",
    "\n",
    "    for epoch in range(num_epochs):\n",
    "        print(f\"Epoch {epoch+1}/{num_epochs}\")\n",
    "        print(\"-\" * 10)\n",
    "\n",
    "        for phase in ['train', 'val']:\n",
    "            if phase == 'train':\n",
    "                model.train()\n",
    "                dataloader = train_loader\n",
    "            else:\n",
    "                model.eval()\n",
    "                dataloader = val_loader\n",
    "\n",
    "            running_loss = 0.0\n",
    "            running_corrects = 0\n",
    "\n",
    "            for inputs, labels in dataloader:\n",
    "                optimizer.zero_grad()\n",
    "\n",
    "                with torch.set_grad_enabled(phase == 'train'):\n",
    "                    outputs = model(inputs)\n",
    "                    loss = criterion(outputs, labels)\n",
    "                    _, preds = torch.max(outputs, 1)\n",
    "\n",
    "                    if phase == 'train':\n",
    "                        loss.backward()\n",
    "                        optimizer.step()\n",
    "\n",
    "                running_loss += loss.item() * inputs.size(0)\n",
    "                running_corrects += torch.sum(preds == labels.data)\n",
    "\n",
    "            epoch_loss = running_loss / len(dataloader.dataset)\n",
    "            epoch_acc = running_corrects.double() / len(dataloader.dataset)\n",
    "\n",
    "            if phase == 'train':\n",
    "                train_losses.append(epoch_loss)\n",
    "                train_accs.append(epoch_acc)\n",
    "            else:\n",
    "                val_losses.append(epoch_loss)\n",
    "                val_accs.append(epoch_acc)\n",
    "\n",
    "                if epoch_acc > best_acc:\n",
    "                    best_acc = epoch_acc\n",
    "                    best_model_wts = copy.deepcopy(model.state_dict())\n",
    "\n",
    "            print(f\"{phase.capitalize()} Loss: {epoch_loss:.4f} Acc: {epoch_acc:.4f}\")\n",
    "\n",
    "        scheduler.step(val_losses[-1])\n",
    "\n",
    "        print()\n",
    "\n",
    "    print(f\"Best validation Accuracy: {best_acc:.4f}\")\n",
    "    model.load_state_dict(best_model_wts)\n",
    "    return model, train_losses, val_losses, train_accs, val_accs\n",
    "\n",
    "\n",
    "# Create the model, loss function, and optimizer\n",
    "criterion = nn.CrossEntropyLoss()\n",
    "optimizer = optim.Adam(model.parameters(), lr=0.001)  # No weight decay\n",
    "\n",
    "# Learning rate scheduler\n",
    "scheduler = lr_scheduler.ReduceLROnPlateau(optimizer, mode='min', factor=0.1, patience=3, verbose=True)\n",
    "print(\"Training simple CNN model\")\n",
    "# Train the model\n",
    "model, train_losses, val_losses, train_accs, val_accs = train_model_simple(model, criterion, optimizer, scheduler, num_epochs=epochs)\n",
    "\n",
    "# Save the best model weights\n",
    "torch.save(model.state_dict(), 'best_model1.pth')\n",
    "print(\"Best model saved.\")"
   ]
  },
  {
   "cell_type": "code",
   "execution_count": 47,
   "id": "e80f4a7f",
   "metadata": {},
   "outputs": [
    {
     "name": "stdout",
     "output_type": "stream",
     "text": [
      "Test Accuracy: 0.8977\n",
      "Test Loss: 0.3115\n"
     ]
    }
   ],
   "source": [
    "# Evaluate the model on the test set\n",
    "model.eval()\n",
    "test_corrects = 0\n",
    "test_loss = 0\n",
    "\n",
    "test_predictions = []\n",
    "test_true_labels = []\n",
    "\n",
    "criterion = nn.CrossEntropyLoss()\n",
    "\n",
    "with torch.no_grad():\n",
    "    for inputs, labels in test_loader:\n",
    "        outputs = model(inputs)\n",
    "        loss = criterion(outputs, labels)\n",
    "        test_loss += loss.item()\n",
    "        _, preds = torch.max(outputs, 1)\n",
    "        test_corrects += torch.sum(preds == labels.data)\n",
    "        test_predictions.extend(preds.cpu().numpy())\n",
    "        test_true_labels.extend(labels.cpu().numpy())\n",
    "\n",
    "test_loss /= len(test_loader)\n",
    "test_acc = test_corrects.double() / len(test_dataset)\n",
    "print(f\"Test Accuracy: {test_acc:.4f}\")\n",
    "print(f\"Test Loss: {test_loss:.4f}\")"
   ]
  },
  {
   "cell_type": "code",
   "execution_count": 48,
   "id": "6929fd76",
   "metadata": {},
   "outputs": [
    {
     "name": "stdout",
     "output_type": "stream",
     "text": [
      "Confusion Matrix:\n",
      "[[4717   60  133   91]\n",
      " [  74 1308   23  136]\n",
      " [ 181   29  488  456]\n",
      " [  77   79  157 6614]]\n",
      "Classification Report:\n",
      "              precision    recall  f1-score   support\n",
      "\n",
      "           0       0.93      0.94      0.94      5001\n",
      "           1       0.89      0.85      0.87      1541\n",
      "           2       0.61      0.42      0.50      1154\n",
      "           3       0.91      0.95      0.93      6927\n",
      "\n",
      "    accuracy                           0.90     14623\n",
      "   macro avg       0.83      0.79      0.81     14623\n",
      "weighted avg       0.89      0.90      0.89     14623\n",
      "\n"
     ]
    }
   ],
   "source": [
    "\n",
    "# Confusion Matrix\n",
    "conf_matrix = confusion_matrix(test_true_labels, test_predictions)\n",
    "print(\"Confusion Matrix:\")\n",
    "print(conf_matrix)\n",
    "\n",
    "# Classification Report\n",
    "class_report = classification_report(test_true_labels, test_predictions)\n",
    "print(\"Classification Report:\")\n",
    "print(class_report)\n"
   ]
  },
  {
   "cell_type": "code",
   "execution_count": 49,
   "id": "ec539062",
   "metadata": {},
   "outputs": [
    {
     "name": "stdout",
     "output_type": "stream",
     "text": [
      "Precision: 0.8340, Recall: 0.7924, F1-score: 0.8088\n"
     ]
    }
   ],
   "source": [
    "# Calculate other evaluation metrics\n",
    "precision = precision_score(test_true_labels, test_predictions, average='macro')\n",
    "recall = recall_score(test_true_labels, test_predictions, average='macro')\n",
    "f1 = f1_score(test_true_labels, test_predictions, average='macro')\n",
    "print(f\"Precision: {precision:.4f}, Recall: {recall:.4f}, F1-score: {f1:.4f}\")"
   ]
  },
  {
   "cell_type": "code",
   "execution_count": 50,
   "id": "edc81917",
   "metadata": {},
   "outputs": [
    {
     "data": {
      "image/png": "[encoded data removed]",
      "text/plain": [
       "<Figure size 576x432 with 2 Axes>"
      ]
     },
     "metadata": {
      "needs_background": "light"
     },
     "output_type": "display_data"
    }
   ],
   "source": [
    "# Confusion Matrix\n",
    "cm = confusion_matrix(test_true_labels, test_predictions)\n",
    "plt.figure(figsize=(8, 6))\n",
    "plt.imshow(cm, interpolation='nearest', cmap=plt.cm.Blues)\n",
    "plt.title('Confusion Matrix')\n",
    "plt.colorbar()\n",
    "plt.xticks(range(4), ['0','1', '2', '3'], rotation=45)\n",
    "plt.yticks(range(4), ['0','1', '2', '3'])\n",
    "plt.xlabel('Predicted Label')\n",
    "plt.ylabel('True Label')\n",
    "plt.show()"
   ]
  },
  {
   "cell_type": "code",
   "execution_count": 51,
   "id": "63cead09",
   "metadata": {},
   "outputs": [
    {
     "data": {
      "image/png": "[encoded data removed]",
      "text/plain": [
       "<Figure size 720x432 with 1 Axes>"
      ]
     },
     "metadata": {
      "needs_background": "light"
     },
     "output_type": "display_data"
    },
    {
     "data": {
      "image/png": "[encoded data removed]",
      "text/plain": [
       "<Figure size 720x432 with 1 Axes>"
      ]
     },
     "metadata": {
      "needs_background": "light"
     },
     "output_type": "display_data"
    }
   ],
   "source": [
    "# Plot the training and validation accuracy over epochs\n",
    "plt.figure(figsize=(10, 6))\n",
    "plt.plot(range(1, len(train_accs) + 1), train_accs, label='Training Accuracy')\n",
    "plt.plot(range(1, len(val_accs) + 1), val_accs, label='Validation Accuracy')\n",
    "plt.xlabel('Epoch')\n",
    "plt.ylabel('Accuracy')\n",
    "plt.title('Training and Validation Accuracy')\n",
    "plt.legend()\n",
    "plt.show()\n",
    "\n",
    "# Plot the training and validation loss over epochs\n",
    "plt.figure(figsize=(10, 6))\n",
    "plt.plot(range(1, len(train_losses) + 1), train_losses, label='Training Loss')\n",
    "plt.plot(range(1, len(val_losses) + 1), val_losses, label='Validation Loss')\n",
    "plt.xlabel('Epoch')\n",
    "plt.ylabel('Loss')\n",
    "plt.title('Training and Validation Loss')\n",
    "plt.legend()\n",
    "plt.show()"
   ]
  },
  {
   "cell_type": "markdown",
   "id": "2a81c023",
   "metadata": {},
   "source": [
    "## Model 2 - Added regularization "
   ]
  },
  {
   "cell_type": "code",
   "execution_count": 52,
   "id": "75a36b5e",
   "metadata": {},
   "outputs": [],
   "source": [
    "# Import lr_scheduler from torch.optim\n",
    "from torch.optim import lr_scheduler"
   ]
  },
  {
   "cell_type": "code",
   "execution_count": 53,
   "id": "8dc218e7",
   "metadata": {},
   "outputs": [
    {
     "data": {
      "text/plain": [
       "CNNwRegularization(\n",
       "  (conv1): Conv2d(1, 32, kernel_size=(3, 3), stride=(1, 1), padding=(1, 1))\n",
       "  (relu1): ReLU()\n",
       "  (pool1): MaxPool2d(kernel_size=2, stride=2, padding=0, dilation=1, ceil_mode=False)\n",
       "  (conv2): Conv2d(32, 64, kernel_size=(3, 3), stride=(1, 1), padding=(1, 1))\n",
       "  (relu2): ReLU()\n",
       "  (pool2): MaxPool2d(kernel_size=2, stride=2, padding=0, dilation=1, ceil_mode=False)\n",
       "  (fc1): Linear(in_features=3136, out_features=128, bias=True)\n",
       "  (relu3): ReLU()\n",
       "  (fc2): Linear(in_features=128, out_features=4, bias=True)\n",
       ")"
      ]
     },
     "execution_count": 53,
     "metadata": {},
     "output_type": "execute_result"
    }
   ],
   "source": [
    "# Define the neural network model\n",
    "class CNNwRegularization(nn.Module):\n",
    "    def __init__(self):\n",
    "        super(CNNwRegularization, self).__init__()\n",
    "        self.conv1 = nn.Conv2d(1, 32, kernel_size=3, padding=1)\n",
    "        self.relu1 = nn.ReLU()\n",
    "        self.pool1 = nn.MaxPool2d(kernel_size=2, stride=2)\n",
    "        self.conv2 = nn.Conv2d(32, 64, kernel_size=3, padding=1)\n",
    "        self.relu2 = nn.ReLU()\n",
    "        self.pool2 = nn.MaxPool2d(kernel_size=2, stride=2)\n",
    "        self.fc1 = nn.Linear(64 * 7 * 7, 128)\n",
    "        self.relu3 = nn.ReLU()\n",
    "        self.fc2 = nn.Linear(128, 4)  # 4 classes for OCTMNIST dataset\n",
    "\n",
    "    def forward(self, x):\n",
    "        x = self.relu1(self.conv1(x))\n",
    "        x = self.pool1(x)\n",
    "        x = self.relu2(self.conv2(x))\n",
    "        x = self.pool2(x)\n",
    "        x = x.view(-1, 64 * 7 * 7)\n",
    "        x = self.relu3(self.fc1(x))\n",
    "        x = self.fc2(x)\n",
    "        return x\n",
    "model = CNNwRegularization()\n",
    "model"
   ]
  },
  {
   "cell_type": "code",
   "execution_count": 54,
   "id": "00f401fa",
   "metadata": {},
   "outputs": [
    {
     "name": "stderr",
     "output_type": "stream",
     "text": [
      "/user/gwalke/.local/lib/python3.9/site-packages/torch/optim/lr_scheduler.py:28: UserWarning: The verbose parameter is deprecated. Please use get_last_lr() to access the learning rate.\n",
      "  warnings.warn(\"The verbose parameter is deprecated. Please use get_last_lr() \"\n"
     ]
    }
   ],
   "source": [
    "# Create the model, loss function, and optimizer with weight decay for L2 regularization\n",
    "model = CNNwRegularization()\n",
    "criterion = nn.CrossEntropyLoss()\n",
    "weight_decay = 1e-5  # weight decay\n",
    "optimizer = optim.Adam(model.parameters(), lr=0.001, weight_decay=weight_decay)\n",
    "\n",
    "# Learning rate scheduler\n",
    "scheduler = lr_scheduler.ReduceLROnPlateau(optimizer, mode='min', factor=0.1, patience=3, verbose=True)"
   ]
  },
  {
   "cell_type": "code",
   "execution_count": 55,
   "id": "142d2c24",
   "metadata": {},
   "outputs": [],
   "source": [
    "# Define the training function\n",
    "def train_model_CNNwRegularization(model, criterion, optimizer, scheduler, num_epochs=10):\n",
    "    train_losses, val_losses = [], []\n",
    "    train_accs, val_accs = [], []\n",
    "\n",
    "    best_model_wts = copy.deepcopy(model.state_dict())\n",
    "    best_acc = 0.0\n",
    "\n",
    "    for epoch in range(num_epochs):\n",
    "        print(f\"Epoch {epoch+1}/{num_epochs}\")\n",
    "        print(\"-\" * 10)\n",
    "\n",
    "        for phase in ['train', 'val']:\n",
    "            if phase == 'train':\n",
    "                model.train()\n",
    "                dataloader = train_loader\n",
    "            else:\n",
    "                model.eval()\n",
    "                dataloader = val_loader\n",
    "\n",
    "            running_loss = 0.0\n",
    "            running_corrects = 0\n",
    "\n",
    "            for inputs, labels in dataloader:\n",
    "                optimizer.zero_grad()\n",
    "\n",
    "                with torch.set_grad_enabled(phase == 'train'):\n",
    "                    outputs = model(inputs)\n",
    "                    loss = criterion(outputs, labels)\n",
    "                    _, preds = torch.max(outputs, 1)\n",
    "\n",
    "                    if phase == 'train':\n",
    "                        loss.backward()\n",
    "                        optimizer.step()\n",
    "\n",
    "                running_loss += loss.item() * inputs.size(0)\n",
    "                running_corrects += torch.sum(preds == labels.data)\n",
    "\n",
    "            epoch_loss = running_loss / len(dataloader.dataset)\n",
    "            epoch_acc = running_corrects.double() / len(dataloader.dataset)\n",
    "\n",
    "            if phase == 'train':\n",
    "                train_losses.append(epoch_loss)\n",
    "                train_accs.append(epoch_acc)\n",
    "            else:\n",
    "                val_losses.append(epoch_loss)\n",
    "                val_accs.append(epoch_acc)\n",
    "\n",
    "                if epoch_acc > best_acc:\n",
    "                    best_acc = epoch_acc\n",
    "                    best_model_wts = copy.deepcopy(model.state_dict())\n",
    "\n",
    "            print(f\"{phase.capitalize()} Loss: {epoch_loss:.4f} Acc: {epoch_acc:.4f}\")\n",
    "\n",
    "        scheduler.step(val_losses[-1])\n",
    "\n",
    "        print()\n",
    "\n",
    "    print(f\"Best validation Accuracy: {best_acc:.4f}\")\n",
    "    model.load_state_dict(best_model_wts)\n",
    "    return model, train_losses, val_losses, train_accs, val_accs"
   ]
  },
  {
   "cell_type": "code",
   "execution_count": 56,
   "id": "85caa621",
   "metadata": {},
   "outputs": [
    {
     "name": "stdout",
     "output_type": "stream",
     "text": [
      "Epoch 1/20\n",
      "----------\n",
      "Train Loss: 0.7560 Acc: 0.7209\n",
      "Val Loss: 0.6267 Acc: 0.7790\n",
      "\n",
      "Epoch 2/20\n",
      "----------\n",
      "Train Loss: 0.5144 Acc: 0.8176\n",
      "Val Loss: 0.5711 Acc: 0.8021\n",
      "\n",
      "Epoch 3/20\n",
      "----------\n",
      "Train Loss: 0.4395 Acc: 0.8431\n",
      "Val Loss: 0.4311 Acc: 0.8470\n",
      "\n",
      "Epoch 4/20\n",
      "----------\n",
      "Train Loss: 0.4016 Acc: 0.8574\n",
      "Val Loss: 0.4004 Acc: 0.8581\n",
      "\n",
      "Epoch 5/20\n",
      "----------\n",
      "Train Loss: 0.3713 Acc: 0.8676\n",
      "Val Loss: 0.3897 Acc: 0.8615\n",
      "\n",
      "Epoch 6/20\n",
      "----------\n",
      "Train Loss: 0.3482 Acc: 0.8756\n",
      "Val Loss: 0.3815 Acc: 0.8656\n",
      "\n",
      "Epoch 7/20\n",
      "----------\n",
      "Train Loss: 0.3266 Acc: 0.8846\n",
      "Val Loss: 0.3465 Acc: 0.8790\n",
      "\n",
      "Epoch 8/20\n",
      "----------\n",
      "Train Loss: 0.3112 Acc: 0.8903\n",
      "Val Loss: 0.3788 Acc: 0.8657\n",
      "\n",
      "Epoch 9/20\n",
      "----------\n",
      "Train Loss: 0.2934 Acc: 0.8968\n",
      "Val Loss: 0.3292 Acc: 0.8865\n",
      "\n",
      "Epoch 10/20\n",
      "----------\n",
      "Train Loss: 0.2778 Acc: 0.9015\n",
      "Val Loss: 0.3342 Acc: 0.8861\n",
      "\n",
      "Epoch 11/20\n",
      "----------\n",
      "Train Loss: 0.2614 Acc: 0.9078\n",
      "Val Loss: 0.3197 Acc: 0.8932\n",
      "\n",
      "Epoch 12/20\n",
      "----------\n",
      "Train Loss: 0.2474 Acc: 0.9133\n",
      "Val Loss: 0.3368 Acc: 0.8860\n",
      "\n",
      "Epoch 13/20\n",
      "----------\n",
      "Train Loss: 0.2352 Acc: 0.9178\n",
      "Val Loss: 0.3313 Acc: 0.8895\n",
      "\n",
      "Epoch 14/20\n",
      "----------\n",
      "Train Loss: 0.2249 Acc: 0.9215\n",
      "Val Loss: 0.3106 Acc: 0.8923\n",
      "\n",
      "Epoch 15/20\n",
      "----------\n",
      "Train Loss: 0.2120 Acc: 0.9259\n",
      "Val Loss: 0.3097 Acc: 0.8949\n",
      "\n",
      "Epoch 16/20\n",
      "----------\n",
      "Train Loss: 0.2010 Acc: 0.9298\n",
      "Val Loss: 0.3127 Acc: 0.8968\n",
      "\n",
      "Epoch 17/20\n",
      "----------\n",
      "Train Loss: 0.1903 Acc: 0.9333\n",
      "Val Loss: 0.3093 Acc: 0.8941\n",
      "\n",
      "Epoch 18/20\n",
      "----------\n",
      "Train Loss: 0.1786 Acc: 0.9383\n",
      "Val Loss: 0.3085 Acc: 0.8974\n",
      "\n",
      "Epoch 19/20\n",
      "----------\n",
      "Train Loss: 0.1722 Acc: 0.9398\n",
      "Val Loss: 0.3130 Acc: 0.8972\n",
      "\n",
      "Epoch 20/20\n",
      "----------\n",
      "Train Loss: 0.1571 Acc: 0.9454\n",
      "Val Loss: 0.3214 Acc: 0.8982\n",
      "\n",
      "Best validation Accuracy: 0.8982\n",
      "Best model saved.\n"
     ]
    }
   ],
   "source": [
    "# Train the model\n",
    "model, train_losses, val_losses, train_accs, val_accs = train_model_CNNwRegularization(model, criterion, optimizer, scheduler, num_epochs=epochs)\n",
    "\n",
    "# Save the best model weights\n",
    "torch.save(model.state_dict(), 'best_model2.pth')\n",
    "print(\"Best model saved.\")"
   ]
  },
  {
   "cell_type": "code",
   "execution_count": 57,
   "id": "f44e7b95",
   "metadata": {},
   "outputs": [
    {
     "name": "stdout",
     "output_type": "stream",
     "text": [
      "Test Accuracy: 0.8973\n",
      "Test Loss: 0.3245\n"
     ]
    }
   ],
   "source": [
    "model.eval()\n",
    "test_corrects = 0\n",
    "test_loss = 0\n",
    "\n",
    "test_predictions = []\n",
    "test_true_labels = []\n",
    "\n",
    "criterion = nn.CrossEntropyLoss()\n",
    "\n",
    "with torch.no_grad():\n",
    "    for inputs, labels in test_loader:\n",
    "        outputs = model(inputs)\n",
    "        loss = criterion(outputs, labels)\n",
    "        test_loss += loss.item()\n",
    "        _, preds = torch.max(outputs, 1)\n",
    "        test_corrects += torch.sum(preds == labels.data)\n",
    "        test_predictions.extend(preds.cpu().numpy())\n",
    "        test_true_labels.extend(labels.cpu().numpy())\n",
    "\n",
    "test_loss /= len(test_loader)\n",
    "test_acc = test_corrects.double() / len(test_dataset)\n",
    "print(f\"Test Accuracy: {test_acc:.4f}\")\n",
    "print(f\"Test Loss: {test_loss:.4f}\")"
   ]
  },
  {
   "cell_type": "code",
   "execution_count": 58,
   "id": "2835f117",
   "metadata": {},
   "outputs": [
    {
     "name": "stdout",
     "output_type": "stream",
     "text": [
      "Confusion Matrix:\n",
      "[[4723   95  110   73]\n",
      " [  65 1330   18  128]\n",
      " [ 199   37  514  404]\n",
      " [  76   95  202 6554]]\n",
      "Classification Report:\n",
      "              precision    recall  f1-score   support\n",
      "\n",
      "           0       0.93      0.94      0.94      5001\n",
      "           1       0.85      0.86      0.86      1541\n",
      "           2       0.61      0.45      0.51      1154\n",
      "           3       0.92      0.95      0.93      6927\n",
      "\n",
      "    accuracy                           0.90     14623\n",
      "   macro avg       0.83      0.80      0.81     14623\n",
      "weighted avg       0.89      0.90      0.89     14623\n",
      "\n"
     ]
    }
   ],
   "source": [
    "# Confusion Matrix\n",
    "conf_matrix = confusion_matrix(test_true_labels, test_predictions)\n",
    "print(\"Confusion Matrix:\")\n",
    "print(conf_matrix)\n",
    "\n",
    "# Classification Report\n",
    "class_report = classification_report(test_true_labels, test_predictions)\n",
    "print(\"Classification Report:\")\n",
    "print(class_report)"
   ]
  },
  {
   "cell_type": "code",
   "execution_count": 59,
   "id": "a27ead9a",
   "metadata": {},
   "outputs": [
    {
     "name": "stdout",
     "output_type": "stream",
     "text": [
      "Precision: 0.8279, Recall: 0.7998, F1-score: 0.8106\n"
     ]
    }
   ],
   "source": [
    "# Calculate other evaluation metrics\n",
    "precision = precision_score(test_true_labels, test_predictions, average='macro')\n",
    "recall = recall_score(test_true_labels, test_predictions, average='macro')\n",
    "f1 = f1_score(test_true_labels, test_predictions, average='macro')\n",
    "print(f\"Precision: {precision:.4f}, Recall: {recall:.4f}, F1-score: {f1:.4f}\")"
   ]
  },
  {
   "cell_type": "code",
   "execution_count": 60,
   "id": "e20a85db",
   "metadata": {},
   "outputs": [
    {
     "data": {
      "image/png": "[encoded data removed]",
      "text/plain": [
       "<Figure size 576x432 with 2 Axes>"
      ]
     },
     "metadata": {
      "needs_background": "light"
     },
     "output_type": "display_data"
    }
   ],
   "source": [
    "# Confusion Matrix\n",
    "cm = confusion_matrix(test_true_labels, test_predictions)\n",
    "plt.figure(figsize=(8, 6))\n",
    "plt.imshow(cm, interpolation='nearest', cmap=plt.cm.Blues)\n",
    "plt.title('Confusion Matrix')\n",
    "plt.colorbar()\n",
    "plt.xticks(range(4), ['0','1', '2', '3'], rotation=45)\n",
    "plt.yticks(range(4), ['0','1', '2', '3'])\n",
    "plt.xlabel('Predicted Label')\n",
    "plt.ylabel('True Label')\n",
    "plt.show()"
   ]
  },
  {
   "cell_type": "code",
   "execution_count": 61,
   "id": "2192abb0",
   "metadata": {},
   "outputs": [
    {
     "data": {
      "image/png": "[encoded data removed]",
      "text/plain": [
       "<Figure size 720x432 with 1 Axes>"
      ]
     },
     "metadata": {
      "needs_background": "light"
     },
     "output_type": "display_data"
    },
    {
     "data": {
      "image/png": "[encoded data removed]",
      "text/plain": [
       "<Figure size 720x432 with 1 Axes>"
      ]
     },
     "metadata": {
      "needs_background": "light"
     },
     "output_type": "display_data"
    }
   ],
   "source": [
    "# Plot the training and validation accuracy over epochs\n",
    "plt.figure(figsize=(10, 6))\n",
    "plt.plot(range(1, len(train_accs) + 1), train_accs, label='Training Accuracy')\n",
    "plt.plot(range(1, len(val_accs) + 1), val_accs, label='Validation Accuracy')\n",
    "plt.xlabel('Epoch')\n",
    "plt.ylabel('Accuracy')\n",
    "plt.title('Training and Validation Accuracy')\n",
    "plt.legend()\n",
    "plt.show()\n",
    "\n",
    "# Plot the training and validation loss over epochs\n",
    "plt.figure(figsize=(10, 6))\n",
    "plt.plot(range(1, len(train_losses) + 1), train_losses, label='Training Loss')\n",
    "plt.plot(range(1, len(val_losses) + 1), val_losses, label='Validation Loss')\n",
    "plt.xlabel('Epoch')\n",
    "plt.ylabel('Loss')\n",
    "plt.title('Training and Validation Loss')\n",
    "plt.legend()\n",
    "plt.show()"
   ]
  },
  {
   "cell_type": "markdown",
   "id": "92a0faba",
   "metadata": {},
   "source": [
    "## Model 3 - Added dropout "
   ]
  },
  {
   "cell_type": "code",
   "execution_count": 62,
   "id": "ff5b56ca",
   "metadata": {},
   "outputs": [],
   "source": [
    "# Define the neural network model\n",
    "class CNN_regularization_dropout(nn.Module):\n",
    "    def __init__(self):\n",
    "        super(CNN_regularization_dropout, self).__init__()\n",
    "        self.conv1 = nn.Conv2d(1, 32, kernel_size=3, padding=1)\n",
    "        self.relu1 = nn.ReLU()\n",
    "        self.pool1 = nn.MaxPool2d(kernel_size=2, stride=2)\n",
    "        self.conv2 = nn.Conv2d(32, 64, kernel_size=3, padding=1)\n",
    "        self.relu2 = nn.ReLU()\n",
    "        self.pool2 = nn.MaxPool2d(kernel_size=2, stride=2)\n",
    "        self.fc1 = nn.Linear(64 * 7 * 7, 128)\n",
    "        self.relu3 = nn.ReLU()\n",
    "        self.dropout = nn.Dropout(0.5)  # Dropout with a probability of 0.5\n",
    "        self.fc2 = nn.Linear(128, 4)  #4 classes for OCTMNIST dataset\n",
    "\n",
    "    def forward(self, x):\n",
    "        x = self.relu1(self.conv1(x))\n",
    "        x = self.pool1(x)\n",
    "        x = self.relu2(self.conv2(x))\n",
    "        x = self.pool2(x)\n",
    "        x = x.view(-1, 64 * 7 * 7)\n",
    "        x = self.relu3(self.fc1(x))\n",
    "        x = self.dropout(x)  # Apply dropout after the first fully connected layer\n",
    "        x = self.fc2(x)\n",
    "        return x"
   ]
  },
  {
   "cell_type": "code",
   "execution_count": 63,
   "id": "f861ade9",
   "metadata": {},
   "outputs": [
    {
     "data": {
      "text/plain": [
       "CNN_regularization_dropout(\n",
       "  (conv1): Conv2d(1, 32, kernel_size=(3, 3), stride=(1, 1), padding=(1, 1))\n",
       "  (relu1): ReLU()\n",
       "  (pool1): MaxPool2d(kernel_size=2, stride=2, padding=0, dilation=1, ceil_mode=False)\n",
       "  (conv2): Conv2d(32, 64, kernel_size=(3, 3), stride=(1, 1), padding=(1, 1))\n",
       "  (relu2): ReLU()\n",
       "  (pool2): MaxPool2d(kernel_size=2, stride=2, padding=0, dilation=1, ceil_mode=False)\n",
       "  (fc1): Linear(in_features=3136, out_features=128, bias=True)\n",
       "  (relu3): ReLU()\n",
       "  (dropout): Dropout(p=0.5, inplace=False)\n",
       "  (fc2): Linear(in_features=128, out_features=4, bias=True)\n",
       ")"
      ]
     },
     "execution_count": 63,
     "metadata": {},
     "output_type": "execute_result"
    }
   ],
   "source": [
    "# Create the model, loss function, and optimizer with weight decay for L2 regularization\n",
    "model = CNN_regularization_dropout()\n",
    "model"
   ]
  },
  {
   "cell_type": "code",
   "execution_count": 64,
   "id": "294c0e1b",
   "metadata": {},
   "outputs": [
    {
     "name": "stderr",
     "output_type": "stream",
     "text": [
      "/user/gwalke/.local/lib/python3.9/site-packages/torch/optim/lr_scheduler.py:28: UserWarning: The verbose parameter is deprecated. Please use get_last_lr() to access the learning rate.\n",
      "  warnings.warn(\"The verbose parameter is deprecated. Please use get_last_lr() \"\n"
     ]
    }
   ],
   "source": [
    "criterion = nn.CrossEntropyLoss()\n",
    "weight_decay = 1e-5  # l2 regularization\n",
    "optimizer = optim.Adam(model.parameters(), lr=0.001, weight_decay=weight_decay)\n",
    "\n",
    "# Learning rate scheduler\n",
    "scheduler = lr_scheduler.ReduceLROnPlateau(optimizer, mode='min', factor=0.1, patience=3, verbose=True)"
   ]
  },
  {
   "cell_type": "code",
   "execution_count": 65,
   "id": "e935fdc1",
   "metadata": {},
   "outputs": [
    {
     "name": "stdout",
     "output_type": "stream",
     "text": [
      "Epoch 1/20\n",
      "----------\n",
      "Train Loss: 0.7889 Acc: 0.7110\n",
      "Val Loss: 0.5939 Acc: 0.7859\n",
      "\n",
      "Epoch 2/20\n",
      "----------\n",
      "Train Loss: 0.5756 Acc: 0.8011\n",
      "Val Loss: 0.5110 Acc: 0.8177\n",
      "\n",
      "Epoch 3/20\n",
      "----------\n",
      "Train Loss: 0.5103 Acc: 0.8243\n",
      "Val Loss: 0.4494 Acc: 0.8396\n",
      "\n",
      "Epoch 4/20\n",
      "----------\n",
      "Train Loss: 0.4696 Acc: 0.8395\n",
      "Val Loss: 0.4368 Acc: 0.8447\n",
      "\n",
      "Epoch 5/20\n",
      "----------\n",
      "Train Loss: 0.4331 Acc: 0.8509\n",
      "Val Loss: 0.4064 Acc: 0.8564\n",
      "\n",
      "Epoch 6/20\n",
      "----------\n",
      "Train Loss: 0.4108 Acc: 0.8572\n",
      "Val Loss: 0.4119 Acc: 0.8581\n",
      "\n",
      "Epoch 7/20\n",
      "----------\n",
      "Train Loss: 0.3900 Acc: 0.8634\n",
      "Val Loss: 0.3668 Acc: 0.8692\n",
      "\n",
      "Epoch 8/20\n",
      "----------\n",
      "Train Loss: 0.3745 Acc: 0.8684\n",
      "Val Loss: 0.3695 Acc: 0.8671\n",
      "\n",
      "Epoch 9/20\n",
      "----------\n",
      "Train Loss: 0.3596 Acc: 0.8747\n",
      "Val Loss: 0.3485 Acc: 0.8770\n",
      "\n",
      "Epoch 10/20\n",
      "----------\n",
      "Train Loss: 0.3477 Acc: 0.8786\n",
      "Val Loss: 0.3439 Acc: 0.8791\n",
      "\n",
      "Epoch 11/20\n",
      "----------\n",
      "Train Loss: 0.3333 Acc: 0.8826\n",
      "Val Loss: 0.3601 Acc: 0.8750\n",
      "\n",
      "Epoch 12/20\n",
      "----------\n",
      "Train Loss: 0.3228 Acc: 0.8857\n",
      "Val Loss: 0.3312 Acc: 0.8840\n",
      "\n",
      "Epoch 13/20\n",
      "----------\n",
      "Train Loss: 0.3115 Acc: 0.8903\n",
      "Val Loss: 0.3453 Acc: 0.8804\n",
      "\n",
      "Epoch 14/20\n",
      "----------\n",
      "Train Loss: 0.2997 Acc: 0.8946\n",
      "Val Loss: 0.3318 Acc: 0.8841\n",
      "\n",
      "Epoch 15/20\n",
      "----------\n",
      "Train Loss: 0.2920 Acc: 0.8971\n",
      "Val Loss: 0.3305 Acc: 0.8879\n",
      "\n",
      "Epoch 16/20\n",
      "----------\n",
      "Train Loss: 0.2852 Acc: 0.9000\n",
      "Val Loss: 0.3208 Acc: 0.8915\n",
      "\n",
      "Epoch 17/20\n",
      "----------\n",
      "Train Loss: 0.2768 Acc: 0.9012\n",
      "Val Loss: 0.3076 Acc: 0.8974\n",
      "\n",
      "Epoch 18/20\n",
      "----------\n",
      "Train Loss: 0.2683 Acc: 0.9055\n",
      "Val Loss: 0.3052 Acc: 0.8977\n",
      "\n",
      "Epoch 19/20\n",
      "----------\n",
      "Train Loss: 0.2601 Acc: 0.9087\n",
      "Val Loss: 0.3252 Acc: 0.8923\n",
      "\n",
      "Epoch 20/20\n",
      "----------\n",
      "Train Loss: 0.2540 Acc: 0.9093\n",
      "Val Loss: 0.3161 Acc: 0.8967\n",
      "\n",
      "Best validation Accuracy: 0.8977\n"
     ]
    }
   ],
   "source": [
    "# Define the training function\n",
    "def train_model_CNN_regularization_dropout(model, criterion, optimizer, scheduler, num_epochs=10):\n",
    "    train_losses, val_losses = [], []\n",
    "    train_accs, val_accs = [], []\n",
    "\n",
    "    best_model_wts = copy.deepcopy(model.state_dict())\n",
    "    best_acc = 0.0\n",
    "\n",
    "    for epoch in range(num_epochs):\n",
    "        print(f\"Epoch {epoch+1}/{num_epochs}\")\n",
    "        print(\"-\" * 10)\n",
    "\n",
    "        for phase in ['train', 'val']:\n",
    "            if phase == 'train':\n",
    "                model.train()\n",
    "                dataloader = train_loader\n",
    "            else:\n",
    "                model.eval()\n",
    "                dataloader = val_loader\n",
    "\n",
    "            running_loss = 0.0\n",
    "            running_corrects = 0\n",
    "\n",
    "            for inputs, labels in dataloader:\n",
    "                optimizer.zero_grad()\n",
    "\n",
    "                with torch.set_grad_enabled(phase == 'train'):\n",
    "                    outputs = model(inputs)\n",
    "                    loss = criterion(outputs, labels)\n",
    "                    _, preds = torch.max(outputs, 1)\n",
    "\n",
    "                    if phase == 'train':\n",
    "                        loss.backward()\n",
    "                        optimizer.step()\n",
    "\n",
    "                running_loss += loss.item() * inputs.size(0)\n",
    "                running_corrects += torch.sum(preds == labels.data)\n",
    "\n",
    "            epoch_loss = running_loss / len(dataloader.dataset)\n",
    "            epoch_acc = running_corrects.double() / len(dataloader.dataset)\n",
    "\n",
    "            if phase == 'train':\n",
    "                train_losses.append(epoch_loss)\n",
    "                train_accs.append(epoch_acc)\n",
    "            else:\n",
    "                val_losses.append(epoch_loss)\n",
    "                val_accs.append(epoch_acc)\n",
    "\n",
    "                if epoch_acc > best_acc:\n",
    "                    best_acc = epoch_acc\n",
    "                    best_model_wts = copy.deepcopy(model.state_dict())\n",
    "\n",
    "            print(f\"{phase.capitalize()} Loss: {epoch_loss:.4f} Acc: {epoch_acc:.4f}\")\n",
    "\n",
    "        scheduler.step(val_losses[-1])\n",
    "\n",
    "        print()\n",
    "\n",
    "    print(f\"Best validation Accuracy: {best_acc:.4f}\")\n",
    "    model.load_state_dict(best_model_wts)\n",
    "    return model, train_losses, val_losses, train_accs, val_accs\n",
    "\n",
    "# Train the model\n",
    "model, train_losses, val_losses, train_accs, val_accs = train_model_CNN_regularization_dropout(model, criterion, optimizer, scheduler, num_epochs=epochs)"
   ]
  },
  {
   "cell_type": "code",
   "execution_count": 66,
   "id": "03e9b51f",
   "metadata": {},
   "outputs": [
    {
     "name": "stdout",
     "output_type": "stream",
     "text": [
      "Best model saved.\n",
      "Test Accuracy: 0.8959\n",
      "Test Loss: 0.2949\n"
     ]
    }
   ],
   "source": [
    "# Save the best model weights\n",
    "torch.save(model.state_dict(), 'best_model3.pth')\n",
    "print(\"Best model saved.\")\n",
    "\n",
    "model.eval()\n",
    "test_corrects = 0\n",
    "test_loss = 0\n",
    "\n",
    "test_predictions = []\n",
    "test_true_labels = []\n",
    "\n",
    "criterion = nn.CrossEntropyLoss()\n",
    "\n",
    "with torch.no_grad():\n",
    "    for inputs, labels in test_loader:\n",
    "        outputs = model(inputs)\n",
    "        loss = criterion(outputs, labels)\n",
    "        test_loss += loss.item()\n",
    "        _, preds = torch.max(outputs, 1)\n",
    "        test_corrects += torch.sum(preds == labels.data)\n",
    "        test_predictions.extend(preds.cpu().numpy())\n",
    "        test_true_labels.extend(labels.cpu().numpy())\n",
    "\n",
    "test_loss /= len(test_loader)\n",
    "test_acc = test_corrects.double() / len(test_dataset)\n",
    "print(f\"Test Accuracy: {test_acc:.4f}\")\n",
    "print(f\"Test Loss: {test_loss:.4f}\")"
   ]
  },
  {
   "cell_type": "code",
   "execution_count": 67,
   "id": "76e9dcbb",
   "metadata": {},
   "outputs": [
    {
     "name": "stdout",
     "output_type": "stream",
     "text": [
      "Confusion Matrix:\n",
      "[[4758   67   88   88]\n",
      " [  73 1287   15  166]\n",
      " [ 223   22  389  520]\n",
      " [  89   57  114 6667]]\n",
      "Classification Report:\n",
      "              precision    recall  f1-score   support\n",
      "\n",
      "           0       0.93      0.95      0.94      5001\n",
      "           1       0.90      0.84      0.87      1541\n",
      "           2       0.64      0.34      0.44      1154\n",
      "           3       0.90      0.96      0.93      6927\n",
      "\n",
      "    accuracy                           0.90     14623\n",
      "   macro avg       0.84      0.77      0.79     14623\n",
      "weighted avg       0.89      0.90      0.89     14623\n",
      "\n"
     ]
    }
   ],
   "source": [
    "# Confusion Matrix\n",
    "conf_matrix = confusion_matrix(test_true_labels, test_predictions)\n",
    "print(\"Confusion Matrix:\")\n",
    "print(conf_matrix)\n",
    "\n",
    "# Classification Report\n",
    "class_report = classification_report(test_true_labels, test_predictions)\n",
    "print(\"Classification Report:\")\n",
    "print(class_report)"
   ]
  },
  {
   "cell_type": "code",
   "execution_count": 68,
   "id": "5347faf9",
   "metadata": {},
   "outputs": [
    {
     "name": "stdout",
     "output_type": "stream",
     "text": [
      "Precision: 0.8403, Recall: 0.7715, F1-score: 0.7934\n"
     ]
    }
   ],
   "source": [
    "# Calculate other evaluation metrics\n",
    "precision = precision_score(test_true_labels, test_predictions, average='macro')\n",
    "recall = recall_score(test_true_labels, test_predictions, average='macro')\n",
    "f1 = f1_score(test_true_labels, test_predictions, average='macro')\n",
    "print(f\"Precision: {precision:.4f}, Recall: {recall:.4f}, F1-score: {f1:.4f}\")"
   ]
  },
  {
   "cell_type": "code",
   "execution_count": 69,
   "id": "99f99449",
   "metadata": {},
   "outputs": [
    {
     "data": {
      "image/png": "[encoded data removed]",
      "text/plain": [
       "<Figure size 576x432 with 2 Axes>"
      ]
     },
     "metadata": {
      "needs_background": "light"
     },
     "output_type": "display_data"
    }
   ],
   "source": [
    "# Confusion Matrix\n",
    "cm = confusion_matrix(test_true_labels, test_predictions)\n",
    "plt.figure(figsize=(8, 6))\n",
    "plt.imshow(cm, interpolation='nearest', cmap=plt.cm.Blues)\n",
    "plt.title('Confusion Matrix')\n",
    "plt.colorbar()\n",
    "plt.xticks(range(4), ['0','1', '2', '3'], rotation=45)\n",
    "plt.yticks(range(4), ['0','1', '2', '3'])\n",
    "plt.xlabel('Predicted Label')\n",
    "plt.ylabel('True Label')\n",
    "plt.show()"
   ]
  },
  {
   "cell_type": "code",
   "execution_count": 70,
   "id": "161d9b47",
   "metadata": {},
   "outputs": [
    {
     "data": {
      "image/png": "[encoded data removed]",
      "text/plain": [
       "<Figure size 720x432 with 1 Axes>"
      ]
     },
     "metadata": {
      "needs_background": "light"
     },
     "output_type": "display_data"
    },
    {
     "data": {
      "image/png": "[encoded data removed]",
      "text/plain": [
       "<Figure size 720x432 with 1 Axes>"
      ]
     },
     "metadata": {
      "needs_background": "light"
     },
     "output_type": "display_data"
    }
   ],
   "source": [
    "# Plot the training and validation accuracy over epochs\n",
    "plt.figure(figsize=(10, 6))\n",
    "plt.plot(range(1, len(train_accs) + 1), train_accs, label='Training Accuracy')\n",
    "plt.plot(range(1, len(val_accs) + 1), val_accs, label='Validation Accuracy')\n",
    "plt.xlabel('Epoch')\n",
    "plt.ylabel('Accuracy')\n",
    "plt.title('Training and Validation Accuracy')\n",
    "plt.legend()\n",
    "plt.show()\n",
    "\n",
    "# Plot the training and validation loss over epochs\n",
    "plt.figure(figsize=(10, 6))\n",
    "plt.plot(range(1, len(train_losses) + 1), train_losses, label='Training Loss')\n",
    "plt.plot(range(1, len(val_losses) + 1), val_losses, label='Validation Loss')\n",
    "plt.xlabel('Epoch')\n",
    "plt.ylabel('Loss')\n",
    "plt.title('Training and Validation Loss')\n",
    "plt.legend()\n",
    "plt.show()"
   ]
  },
  {
   "cell_type": "markdown",
   "id": "2f4468c1",
   "metadata": {},
   "source": [
    "## Model 4 - Added early stopping  "
   ]
  },
  {
   "cell_type": "code",
   "execution_count": 71,
   "id": "fd3a5f2a",
   "metadata": {},
   "outputs": [],
   "source": [
    "# Define the neural network model\n",
    "class CNN_regularization_dropout_early(nn.Module):\n",
    "    def __init__(self):\n",
    "        super(CNN_regularization_dropout_early, self).__init__()\n",
    "        self.conv1 = nn.Conv2d(1, 32, kernel_size=3, padding=1)\n",
    "        self.relu1 = nn.ReLU()\n",
    "        self.pool1 = nn.MaxPool2d(kernel_size=2, stride=2)\n",
    "        self.conv2 = nn.Conv2d(32, 64, kernel_size=3, padding=1)\n",
    "        self.relu2 = nn.ReLU()\n",
    "        self.pool2 = nn.MaxPool2d(kernel_size=2, stride=2)\n",
    "        self.fc1 = nn.Linear(64 * 7 * 7, 128)\n",
    "        self.relu3 = nn.ReLU()\n",
    "        self.dropout = nn.Dropout(0.5)  # Dropout with a probability of 0.5\n",
    "        self.fc2 = nn.Linear(128, 4)  # 4 classes for OCTMNIST dataset\n",
    "\n",
    "    def forward(self, x):\n",
    "        x = self.relu1(self.conv1(x))\n",
    "        x = self.pool1(x)\n",
    "        x = self.relu2(self.conv2(x))\n",
    "        x = self.pool2(x)\n",
    "        x = x.view(-1, 64 * 7 * 7)\n",
    "        x = self.relu3(self.fc1(x))\n",
    "        x = self.dropout(x)  # Apply dropout after the first fully connected layer\n",
    "        x = self.fc2(x)\n",
    "        return x"
   ]
  },
  {
   "cell_type": "code",
   "execution_count": 72,
   "id": "177f478f",
   "metadata": {},
   "outputs": [
    {
     "data": {
      "text/plain": [
       "CNN_regularization_dropout(\n",
       "  (conv1): Conv2d(1, 32, kernel_size=(3, 3), stride=(1, 1), padding=(1, 1))\n",
       "  (relu1): ReLU()\n",
       "  (pool1): MaxPool2d(kernel_size=2, stride=2, padding=0, dilation=1, ceil_mode=False)\n",
       "  (conv2): Conv2d(32, 64, kernel_size=(3, 3), stride=(1, 1), padding=(1, 1))\n",
       "  (relu2): ReLU()\n",
       "  (pool2): MaxPool2d(kernel_size=2, stride=2, padding=0, dilation=1, ceil_mode=False)\n",
       "  (fc1): Linear(in_features=3136, out_features=128, bias=True)\n",
       "  (relu3): ReLU()\n",
       "  (dropout): Dropout(p=0.5, inplace=False)\n",
       "  (fc2): Linear(in_features=128, out_features=4, bias=True)\n",
       ")"
      ]
     },
     "execution_count": 72,
     "metadata": {},
     "output_type": "execute_result"
    }
   ],
   "source": [
    "# Create the model, loss function, and optimizer with weight decay for L2 regularization\n",
    "model = CNN_regularization_dropout_early()\n",
    "model"
   ]
  },
  {
   "cell_type": "code",
   "execution_count": 73,
   "id": "bbacd750",
   "metadata": {},
   "outputs": [
    {
     "name": "stderr",
     "output_type": "stream",
     "text": [
      "/user/gwalke/.local/lib/python3.9/site-packages/torch/optim/lr_scheduler.py:28: UserWarning: The verbose parameter is deprecated. Please use get_last_lr() to access the learning rate.\n",
      "  warnings.warn(\"The verbose parameter is deprecated. Please use get_last_lr() \"\n"
     ]
    }
   ],
   "source": [
    "criterion = nn.CrossEntropyLoss()\n",
    "weight_decay = 1e-5  # Adjust the value as needed\n",
    "optimizer = optim.Adam(model.parameters(), lr=0.001, weight_decay=weight_decay)\n",
    "\n",
    "# Learning rate scheduler\n",
    "scheduler = lr_scheduler.ReduceLROnPlateau(optimizer, mode='min', factor=0.1, patience=3, verbose=True)"
   ]
  },
  {
   "cell_type": "code",
   "execution_count": 74,
   "id": "5ca13d7f",
   "metadata": {},
   "outputs": [],
   "source": [
    "# Define the training function\n",
    "def train_model_CNN_regularization_dropout_early(model, criterion, optimizer, scheduler, num_epochs=10, patience=5):\n",
    "    train_losses, val_losses = [], []\n",
    "    train_accs, val_accs = [], []\n",
    "\n",
    "    best_model_wts = copy.deepcopy(model.state_dict())\n",
    "    best_acc = 0.0\n",
    "    best_val_loss = float('inf')\n",
    "    no_improve_count = 0  # Counter to track the number of epochs without improvement\n",
    "\n",
    "    for epoch in range(num_epochs):\n",
    "        print(f\"Epoch {epoch+1}/{num_epochs}\")\n",
    "        print(\"-\" * 10)\n",
    "\n",
    "        for phase in ['train', 'val']:\n",
    "            if phase == 'train':\n",
    "                model.train()\n",
    "                dataloader = train_loader\n",
    "            else:\n",
    "                model.eval()\n",
    "                dataloader = val_loader\n",
    "\n",
    "            running_loss = 0.0\n",
    "            running_corrects = 0\n",
    "\n",
    "            for inputs, labels in dataloader:\n",
    "                optimizer.zero_grad()\n",
    "\n",
    "                with torch.set_grad_enabled(phase == 'train'):\n",
    "                    outputs = model(inputs)\n",
    "                    loss = criterion(outputs, labels)\n",
    "                    _, preds = torch.max(outputs, 1)\n",
    "\n",
    "                    if phase == 'train':\n",
    "                        loss.backward()\n",
    "                        optimizer.step()\n",
    "\n",
    "                running_loss += loss.item() * inputs.size(0)\n",
    "                running_corrects += torch.sum(preds == labels.data)\n",
    "\n",
    "            epoch_loss = running_loss / len(dataloader.dataset)\n",
    "            epoch_acc = running_corrects.double() / len(dataloader.dataset)\n",
    "\n",
    "            if phase == 'train':\n",
    "                train_losses.append(epoch_loss)\n",
    "                train_accs.append(epoch_acc)\n",
    "            else:\n",
    "                val_losses.append(epoch_loss)\n",
    "                val_accs.append(epoch_acc)\n",
    "\n",
    "                if epoch_loss < best_val_loss:\n",
    "                    best_val_loss = epoch_loss\n",
    "                    best_model_wts = copy.deepcopy(model.state_dict())\n",
    "                    no_improve_count = 0\n",
    "                else:\n",
    "                    no_improve_count += 1\n",
    "\n",
    "            print(f\"{phase.capitalize()} Loss: {epoch_loss:.4f} Acc: {epoch_acc:.4f}\")\n",
    "\n",
    "        scheduler.step(val_losses[-1])\n",
    "\n",
    "        if no_improve_count >= patience:\n",
    "            print(f\"No improvement in validation loss for {patience} epochs. Stopping training.\")\n",
    "            break\n",
    "\n",
    "        print()\n",
    "\n",
    "    print(f\"Best validation Accuracy: {best_acc:.4f}\")\n",
    "    model.load_state_dict(best_model_wts)\n",
    "    return model, train_losses, val_losses, train_accs, val_accs"
   ]
  },
  {
   "cell_type": "code",
   "execution_count": 75,
   "id": "902d531e",
   "metadata": {},
   "outputs": [
    {
     "name": "stdout",
     "output_type": "stream",
     "text": [
      "Epoch 1/20\n",
      "----------\n",
      "Train Loss: 0.8107 Acc: 0.7012\n",
      "Val Loss: 0.5964 Acc: 0.7850\n",
      "\n",
      "Epoch 2/20\n",
      "----------\n",
      "Train Loss: 0.5716 Acc: 0.8018\n",
      "Val Loss: 0.5152 Acc: 0.8148\n",
      "\n",
      "Epoch 3/20\n",
      "----------\n",
      "Train Loss: 0.5104 Acc: 0.8245\n",
      "Val Loss: 0.4569 Acc: 0.8361\n",
      "\n",
      "Epoch 4/20\n",
      "----------\n",
      "Train Loss: 0.4690 Acc: 0.8388\n",
      "Val Loss: 0.4302 Acc: 0.8461\n",
      "\n",
      "Epoch 5/20\n",
      "----------\n",
      "Train Loss: 0.4403 Acc: 0.8468\n",
      "Val Loss: 0.4102 Acc: 0.8548\n",
      "\n",
      "Epoch 6/20\n",
      "----------\n",
      "Train Loss: 0.4235 Acc: 0.8538\n",
      "Val Loss: 0.3809 Acc: 0.8657\n",
      "\n",
      "Epoch 7/20\n",
      "----------\n",
      "Train Loss: 0.4029 Acc: 0.8594\n",
      "Val Loss: 0.3771 Acc: 0.8664\n",
      "\n",
      "Epoch 8/20\n",
      "----------\n",
      "Train Loss: 0.3911 Acc: 0.8644\n",
      "Val Loss: 0.4142 Acc: 0.8523\n",
      "\n",
      "Epoch 9/20\n",
      "----------\n",
      "Train Loss: 0.3770 Acc: 0.8691\n",
      "Val Loss: 0.3503 Acc: 0.8748\n",
      "\n",
      "Epoch 10/20\n",
      "----------\n",
      "Train Loss: 0.3644 Acc: 0.8734\n",
      "Val Loss: 0.3938 Acc: 0.8631\n",
      "\n",
      "Epoch 11/20\n",
      "----------\n",
      "Train Loss: 0.3553 Acc: 0.8762\n",
      "Val Loss: 0.3516 Acc: 0.8779\n",
      "\n",
      "Epoch 12/20\n",
      "----------\n",
      "Train Loss: 0.3461 Acc: 0.8797\n",
      "Val Loss: 0.3580 Acc: 0.8721\n",
      "No improvement in validation loss for 3 epochs. Stopping training.\n",
      "Best validation Accuracy: 0.0000\n",
      "Best model saved.\n"
     ]
    }
   ],
   "source": [
    "# Train the model with early stopping based on validation loss\n",
    "model, train_losses, val_losses, train_accs, val_accs = train_model_CNN_regularization_dropout_early(model, criterion, optimizer, scheduler, num_epochs=epochs, patience=3)\n",
    "\n",
    "# Save the best model weights\n",
    "torch.save(model.state_dict(), 'best_model4.pth')\n",
    "print(\"Best model saved.\")"
   ]
  },
  {
   "cell_type": "code",
   "execution_count": 76,
   "id": "068e098a",
   "metadata": {},
   "outputs": [
    {
     "name": "stdout",
     "output_type": "stream",
     "text": [
      "Test Accuracy: 0.8753\n",
      "Test Loss: 0.3446\n"
     ]
    }
   ],
   "source": [
    "# Evaluate the model on the test set\n",
    "model.eval()\n",
    "test_corrects = 0\n",
    "test_loss = 0\n",
    "\n",
    "test_predictions = []\n",
    "test_true_labels = []\n",
    "\n",
    "criterion = nn.CrossEntropyLoss()\n",
    "\n",
    "with torch.no_grad():\n",
    "    for inputs, labels in test_loader:\n",
    "        outputs = model(inputs)\n",
    "        loss = criterion(outputs, labels)\n",
    "        test_loss += loss.item()\n",
    "        _, preds = torch.max(outputs, 1)\n",
    "        test_corrects += torch.sum(preds == labels.data)\n",
    "        test_predictions.extend(preds.cpu().numpy())\n",
    "        test_true_labels.extend(labels.cpu().numpy())\n",
    "\n",
    "test_loss /= len(test_loader)\n",
    "test_acc = test_corrects.double() / len(test_dataset)\n",
    "print(f\"Test Accuracy: {test_acc:.4f}\")\n",
    "print(f\"Test Loss: {test_loss:.4f}\")"
   ]
  },
  {
   "cell_type": "code",
   "execution_count": 77,
   "id": "0b858943",
   "metadata": {},
   "outputs": [
    {
     "name": "stdout",
     "output_type": "stream",
     "text": [
      "Confusion Matrix:\n",
      "[[4744   70   54  133]\n",
      " [ 112 1222    3  204]\n",
      " [ 278   33  141  702]\n",
      " [ 128   69   37 6693]]\n",
      "Classification Report:\n",
      "              precision    recall  f1-score   support\n",
      "\n",
      "           0       0.90      0.95      0.92      5001\n",
      "           1       0.88      0.79      0.83      1541\n",
      "           2       0.60      0.12      0.20      1154\n",
      "           3       0.87      0.97      0.91      6927\n",
      "\n",
      "    accuracy                           0.88     14623\n",
      "   macro avg       0.81      0.71      0.72     14623\n",
      "weighted avg       0.86      0.88      0.85     14623\n",
      "\n"
     ]
    }
   ],
   "source": [
    "# Confusion Matrix\n",
    "conf_matrix = confusion_matrix(test_true_labels, test_predictions)\n",
    "print(\"Confusion Matrix:\")\n",
    "print(conf_matrix)\n",
    "\n",
    "# Classification Report\n",
    "class_report = classification_report(test_true_labels, test_predictions)\n",
    "print(\"Classification Report:\")\n",
    "print(class_report)"
   ]
  },
  {
   "cell_type": "code",
   "execution_count": 78,
   "id": "d63957ca",
   "metadata": {},
   "outputs": [
    {
     "name": "stdout",
     "output_type": "stream",
     "text": [
      "Precision: 0.8109, Recall: 0.7075, F1-score: 0.7183\n"
     ]
    }
   ],
   "source": [
    "# Calculate other evaluation metrics\n",
    "precision = precision_score(test_true_labels, test_predictions, average='macro')\n",
    "recall = recall_score(test_true_labels, test_predictions, average='macro')\n",
    "f1 = f1_score(test_true_labels, test_predictions, average='macro')\n",
    "print(f\"Precision: {precision:.4f}, Recall: {recall:.4f}, F1-score: {f1:.4f}\")"
   ]
  },
  {
   "cell_type": "code",
   "execution_count": 79,
   "id": "85757264",
   "metadata": {},
   "outputs": [
    {
     "data": {
      "image/png": "[encoded data removed]",
      "text/plain": [
       "<Figure size 576x432 with 2 Axes>"
      ]
     },
     "metadata": {
      "needs_background": "light"
     },
     "output_type": "display_data"
    }
   ],
   "source": [
    "# Confusion Matrix\n",
    "cm = confusion_matrix(test_true_labels, test_predictions)\n",
    "plt.figure(figsize=(8, 6))\n",
    "plt.imshow(cm, interpolation='nearest', cmap=plt.cm.Blues)\n",
    "plt.title('Confusion Matrix')\n",
    "plt.colorbar()\n",
    "plt.xticks(range(4), ['0','1', '2', '3'], rotation=45)\n",
    "plt.yticks(range(4), ['0','1', '2', '3'])\n",
    "plt.xlabel('Predicted Label')\n",
    "plt.ylabel('True Label')\n",
    "plt.show()"
   ]
  },
  {
   "cell_type": "code",
   "execution_count": 80,
   "id": "637d49a9",
   "metadata": {},
   "outputs": [
    {
     "data": {
      "image/png": "[encoded data removed]",
      "text/plain": [
       "<Figure size 720x432 with 1 Axes>"
      ]
     },
     "metadata": {
      "needs_background": "light"
     },
     "output_type": "display_data"
    },
    {
     "data": {
      "image/png": "[encoded data removed]",
      "text/plain": [
       "<Figure size 720x432 with 1 Axes>"
      ]
     },
     "metadata": {
      "needs_background": "light"
     },
     "output_type": "display_data"
    }
   ],
   "source": [
    "# Plot the training and validation accuracy over epochs\n",
    "plt.figure(figsize=(10, 6))\n",
    "plt.plot(range(1, len(train_accs) + 1), train_accs, label='Training Accuracy')\n",
    "plt.plot(range(1, len(val_accs) + 1), val_accs, label='Validation Accuracy')\n",
    "plt.xlabel('Epoch')\n",
    "plt.ylabel('Accuracy')\n",
    "plt.title('Training and Validation Accuracy')\n",
    "plt.legend()\n",
    "plt.show()\n",
    "\n",
    "# Plot the training and validation loss over epochs\n",
    "plt.figure(figsize=(10, 6))\n",
    "plt.plot(range(1, len(train_losses) + 1), train_losses, label='Training Loss')\n",
    "plt.plot(range(1, len(val_losses) + 1), val_losses, label='Validation Loss')\n",
    "plt.xlabel('Epoch')\n",
    "plt.ylabel('Loss')\n",
    "plt.title('Training and Validation Loss')\n",
    "plt.legend()\n",
    "plt.show()"
   ]
  },
  {
   "cell_type": "code",
   "execution_count": null,
   "id": "3b3e78dd",
   "metadata": {},
   "outputs": [],
   "source": []
  },
  {
   "cell_type": "code",
   "execution_count": null,
   "id": "406266df",
   "metadata": {},
   "outputs": [],
   "source": []
  }
 ],
 "metadata": {
  "colab": {
   "provenance": []
  },
  "kernelspec": {
   "display_name": "Python 3 (ipykernel)",
   "language": "python",
   "name": "python3"
  },
  "language_info": {
   "codemirror_mode": {
    "name": "ipython",
    "version": 3
   },
   "file_extension": ".py",
   "mimetype": "text/x-python",
   "name": "python",
   "nbconvert_exporter": "python",
   "pygments_lexer": "ipython3",
   "version": "3.9.7"
  }
 },
 "nbformat": 4,
 "nbformat_minor": 5
}
